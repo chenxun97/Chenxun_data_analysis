{
 "cells": [
  {
   "cell_type": "code",
   "execution_count": 6,
   "metadata": {},
   "outputs": [],
   "source": [
    "import yfinance"
   ]
  },
  {
   "cell_type": "code",
   "execution_count": 7,
   "metadata": {},
   "outputs": [
    {
     "data": {
      "text/plain": [
       "'c:\\\\python37'"
      ]
     },
     "execution_count": 7,
     "metadata": {},
     "output_type": "execute_result"
    }
   ],
   "source": [
    "import os\n",
    "import sys\n",
    "os.path.dirname(sys.executable)"
   ]
  },
  {
   "cell_type": "code",
   "execution_count": 8,
   "metadata": {},
   "outputs": [],
   "source": [
    "import yfinance as yf\n",
    "import pickle"
   ]
  },
  {
   "cell_type": "code",
   "execution_count": 11,
   "metadata": {},
   "outputs": [],
   "source": [
    "with open(r'C:\\Users\\刘琛栒\\Desktop\\Intern\\IPO\\data.txt', 'r') as f:\n",
    "    cont = f.readlines()"
   ]
  },
  {
   "cell_type": "code",
   "execution_count": 12,
   "metadata": {},
   "outputs": [],
   "source": [
    "stocks = []\n",
    "for stock in cont:\n",
    "    stocks.append(stock.strip())"
   ]
  },
  {
   "cell_type": "code",
   "execution_count": 13,
   "metadata": {},
   "outputs": [
    {
     "name": "stdout",
     "output_type": "stream",
     "text": [
      "10\n",
      "20\n",
      "30\n",
      "40\n",
      "50\n",
      "60\n",
      "70\n",
      "80\n",
      "90\n",
      "100\n",
      "110\n",
      "120\n",
      "130\n",
      "140\n",
      "150\n",
      "160\n",
      "170\n",
      "180\n",
      "190\n",
      "200\n",
      "210\n",
      "220\n",
      "230\n",
      "240\n",
      "250\n",
      "260\n",
      "270\n",
      "280\n",
      "290\n",
      "300\n",
      "310\n",
      "320\n",
      "330\n",
      "340\n",
      "350\n",
      "360\n",
      "370\n",
      "380\n",
      "390\n",
      "400\n",
      "410\n",
      "420\n"
     ]
    }
   ],
   "source": [
    "results = {}\n",
    "cnt = 0\n",
    "for stock in stocks:\n",
    "    test=yf.Tickers(stock)\n",
    "    for ticker in test.tickers:\n",
    "        try:\n",
    "            info = ticker.info\n",
    "            results[stock] = info\n",
    "        except:\n",
    "            results[stock] = None\n",
    "    cnt += 1\n",
    "    if cnt%10 == 0:\n",
    "        print(cnt)"
   ]
  },
  {
   "cell_type": "code",
   "execution_count": 14,
   "metadata": {},
   "outputs": [
    {
     "name": "stdout",
     "output_type": "stream",
     "text": [
      "428\n"
     ]
    }
   ],
   "source": [
    "print(cnt)"
   ]
  },
  {
   "cell_type": "code",
   "execution_count": 15,
   "metadata": {},
   "outputs": [],
   "source": [
    "import json\n",
    "with open(r'C:\\Users\\刘琛栒\\Desktop\\Intern\\IPO\\JapanIPOinfo.json', 'w') as fp:\n",
    "    json.dump(results, fp)"
   ]
  },
  {
   "cell_type": "code",
   "execution_count": 16,
   "metadata": {},
   "outputs": [
    {
     "data": {
      "text/html": [
       "<div>\n",
       "<style scoped>\n",
       "    .dataframe tbody tr th:only-of-type {\n",
       "        vertical-align: middle;\n",
       "    }\n",
       "\n",
       "    .dataframe tbody tr th {\n",
       "        vertical-align: top;\n",
       "    }\n",
       "\n",
       "    .dataframe thead th {\n",
       "        text-align: right;\n",
       "    }\n",
       "</style>\n",
       "<table border=\"1\" class=\"dataframe\">\n",
       "  <thead>\n",
       "    <tr style=\"text-align: right;\">\n",
       "      <th></th>\n",
       "      <th>zip</th>\n",
       "      <th>sector</th>\n",
       "      <th>fullTimeEmployees</th>\n",
       "      <th>longBusinessSummary</th>\n",
       "      <th>city</th>\n",
       "      <th>country</th>\n",
       "      <th>companyOfficers</th>\n",
       "      <th>website</th>\n",
       "      <th>maxAge</th>\n",
       "      <th>address1</th>\n",
       "      <th>...</th>\n",
       "      <th>category</th>\n",
       "      <th>fiveYearAverageReturn</th>\n",
       "      <th>regularMarketPrice</th>\n",
       "      <th>logo_url</th>\n",
       "      <th>phone</th>\n",
       "      <th>fax</th>\n",
       "      <th>underlyingSymbol</th>\n",
       "      <th>underlyingExchangeSymbol</th>\n",
       "      <th>headSymbol</th>\n",
       "      <th>uuid</th>\n",
       "    </tr>\n",
       "  </thead>\n",
       "  <tbody>\n",
       "    <tr>\n",
       "      <th>3974.T</th>\n",
       "      <td>NaN</td>\n",
       "      <td>NaN</td>\n",
       "      <td>NaN</td>\n",
       "      <td>NaN</td>\n",
       "      <td>NaN</td>\n",
       "      <td>NaN</td>\n",
       "      <td>NaN</td>\n",
       "      <td>NaN</td>\n",
       "      <td>NaN</td>\n",
       "      <td>NaN</td>\n",
       "      <td>...</td>\n",
       "      <td>NaN</td>\n",
       "      <td>NaN</td>\n",
       "      <td>NaN</td>\n",
       "      <td>NaN</td>\n",
       "      <td>NaN</td>\n",
       "      <td>NaN</td>\n",
       "      <td>NaN</td>\n",
       "      <td>NaN</td>\n",
       "      <td>NaN</td>\n",
       "      <td>NaN</td>\n",
       "    </tr>\n",
       "    <tr>\n",
       "      <th>3477.T</th>\n",
       "      <td>NaN</td>\n",
       "      <td>NaN</td>\n",
       "      <td>NaN</td>\n",
       "      <td>NaN</td>\n",
       "      <td>NaN</td>\n",
       "      <td>NaN</td>\n",
       "      <td>NaN</td>\n",
       "      <td>NaN</td>\n",
       "      <td>NaN</td>\n",
       "      <td>NaN</td>\n",
       "      <td>...</td>\n",
       "      <td>NaN</td>\n",
       "      <td>NaN</td>\n",
       "      <td>NaN</td>\n",
       "      <td>NaN</td>\n",
       "      <td>NaN</td>\n",
       "      <td>NaN</td>\n",
       "      <td>NaN</td>\n",
       "      <td>NaN</td>\n",
       "      <td>NaN</td>\n",
       "      <td>NaN</td>\n",
       "    </tr>\n",
       "    <tr>\n",
       "      <th>3969.T</th>\n",
       "      <td>150-0002</td>\n",
       "      <td>Technology</td>\n",
       "      <td>62</td>\n",
       "      <td>ATLED CORP. develops software solutions in Jap...</td>\n",
       "      <td>Tokyo</td>\n",
       "      <td>Japan</td>\n",
       "      <td>[]</td>\n",
       "      <td>http://www.atled.jp</td>\n",
       "      <td>1</td>\n",
       "      <td>Shibuya Cross Tower</td>\n",
       "      <td>...</td>\n",
       "      <td>None</td>\n",
       "      <td>None</td>\n",
       "      <td>1903</td>\n",
       "      <td>https://logo.clearbit.com/atled.jp</td>\n",
       "      <td>NaN</td>\n",
       "      <td>NaN</td>\n",
       "      <td>NaN</td>\n",
       "      <td>NaN</td>\n",
       "      <td>NaN</td>\n",
       "      <td>NaN</td>\n",
       "    </tr>\n",
       "    <tr>\n",
       "      <th>3968.T</th>\n",
       "      <td>NaN</td>\n",
       "      <td>NaN</td>\n",
       "      <td>NaN</td>\n",
       "      <td>NaN</td>\n",
       "      <td>NaN</td>\n",
       "      <td>NaN</td>\n",
       "      <td>NaN</td>\n",
       "      <td>NaN</td>\n",
       "      <td>NaN</td>\n",
       "      <td>NaN</td>\n",
       "      <td>...</td>\n",
       "      <td>NaN</td>\n",
       "      <td>NaN</td>\n",
       "      <td>NaN</td>\n",
       "      <td>NaN</td>\n",
       "      <td>NaN</td>\n",
       "      <td>NaN</td>\n",
       "      <td>NaN</td>\n",
       "      <td>NaN</td>\n",
       "      <td>NaN</td>\n",
       "      <td>NaN</td>\n",
       "    </tr>\n",
       "    <tr>\n",
       "      <th>3970.T</th>\n",
       "      <td>NaN</td>\n",
       "      <td>NaN</td>\n",
       "      <td>NaN</td>\n",
       "      <td>NaN</td>\n",
       "      <td>NaN</td>\n",
       "      <td>NaN</td>\n",
       "      <td>NaN</td>\n",
       "      <td>NaN</td>\n",
       "      <td>NaN</td>\n",
       "      <td>NaN</td>\n",
       "      <td>...</td>\n",
       "      <td>NaN</td>\n",
       "      <td>NaN</td>\n",
       "      <td>NaN</td>\n",
       "      <td>NaN</td>\n",
       "      <td>NaN</td>\n",
       "      <td>NaN</td>\n",
       "      <td>NaN</td>\n",
       "      <td>NaN</td>\n",
       "      <td>NaN</td>\n",
       "      <td>NaN</td>\n",
       "    </tr>\n",
       "  </tbody>\n",
       "</table>\n",
       "<p>5 rows × 126 columns</p>\n",
       "</div>"
      ],
      "text/plain": [
       "             zip      sector fullTimeEmployees  \\\n",
       "3974.T       NaN         NaN               NaN   \n",
       "3477.T       NaN         NaN               NaN   \n",
       "3969.T  150-0002  Technology                62   \n",
       "3968.T       NaN         NaN               NaN   \n",
       "3970.T       NaN         NaN               NaN   \n",
       "\n",
       "                                      longBusinessSummary   city country  \\\n",
       "3974.T                                                NaN    NaN     NaN   \n",
       "3477.T                                                NaN    NaN     NaN   \n",
       "3969.T  ATLED CORP. develops software solutions in Jap...  Tokyo   Japan   \n",
       "3968.T                                                NaN    NaN     NaN   \n",
       "3970.T                                                NaN    NaN     NaN   \n",
       "\n",
       "       companyOfficers              website maxAge             address1  ...  \\\n",
       "3974.T             NaN                  NaN    NaN                  NaN  ...   \n",
       "3477.T             NaN                  NaN    NaN                  NaN  ...   \n",
       "3969.T              []  http://www.atled.jp      1  Shibuya Cross Tower  ...   \n",
       "3968.T             NaN                  NaN    NaN                  NaN  ...   \n",
       "3970.T             NaN                  NaN    NaN                  NaN  ...   \n",
       "\n",
       "       category fiveYearAverageReturn regularMarketPrice  \\\n",
       "3974.T      NaN                   NaN                NaN   \n",
       "3477.T      NaN                   NaN                NaN   \n",
       "3969.T     None                  None               1903   \n",
       "3968.T      NaN                   NaN                NaN   \n",
       "3970.T      NaN                   NaN                NaN   \n",
       "\n",
       "                                  logo_url phone  fax underlyingSymbol  \\\n",
       "3974.T                                 NaN   NaN  NaN              NaN   \n",
       "3477.T                                 NaN   NaN  NaN              NaN   \n",
       "3969.T  https://logo.clearbit.com/atled.jp   NaN  NaN              NaN   \n",
       "3968.T                                 NaN   NaN  NaN              NaN   \n",
       "3970.T                                 NaN   NaN  NaN              NaN   \n",
       "\n",
       "       underlyingExchangeSymbol headSymbol uuid  \n",
       "3974.T                      NaN        NaN  NaN  \n",
       "3477.T                      NaN        NaN  NaN  \n",
       "3969.T                      NaN        NaN  NaN  \n",
       "3968.T                      NaN        NaN  NaN  \n",
       "3970.T                      NaN        NaN  NaN  \n",
       "\n",
       "[5 rows x 126 columns]"
      ]
     },
     "execution_count": 16,
     "metadata": {},
     "output_type": "execute_result"
    }
   ],
   "source": [
    "import pandas as pd\n",
    "df = pd.read_json(r'C:\\Users\\刘琛栒\\Desktop\\Intern\\IPO\\JapanIPOinfo.json')\n",
    "df1 = pd.DataFrame.transpose(df)\n",
    "df1.head()"
   ]
  },
  {
   "cell_type": "code",
   "execution_count": 20,
   "metadata": {},
   "outputs": [
    {
     "data": {
      "text/plain": [
       "zip                         NaN\n",
       "sector                      NaN\n",
       "fullTimeEmployees           NaN\n",
       "longBusinessSummary         NaN\n",
       "city                        NaN\n",
       "                           ... \n",
       "fax                         NaN\n",
       "underlyingSymbol            NaN\n",
       "underlyingExchangeSymbol    NaN\n",
       "headSymbol                  NaN\n",
       "uuid                        NaN\n",
       "Name: 3974.T, Length: 126, dtype: object"
      ]
     },
     "execution_count": 20,
     "metadata": {},
     "output_type": "execute_result"
    }
   ],
   "source": [
    "df1.iloc[0]"
   ]
  },
  {
   "cell_type": "code",
   "execution_count": null,
   "metadata": {},
   "outputs": [],
   "source": []
  }
 ],
 "metadata": {
  "kernelspec": {
   "display_name": "Python 3",
   "language": "python",
   "name": "python3"
  },
  "language_info": {
   "codemirror_mode": {
    "name": "ipython",
    "version": 3
   },
   "file_extension": ".py",
   "mimetype": "text/x-python",
   "name": "python",
   "nbconvert_exporter": "python",
   "pygments_lexer": "ipython3",
   "version": "3.7.8"
  }
 },
 "nbformat": 4,
 "nbformat_minor": 4
}
